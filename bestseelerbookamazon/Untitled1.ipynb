{
  "nbformat": 4,
  "nbformat_minor": 0,
  "metadata": {
    "colab": {
      "provenance": []
    },
    "kernelspec": {
      "name": "python3",
      "display_name": "Python 3"
    },
    "language_info": {
      "name": "python"
    }
  },
  "cells": [
    {
      "cell_type": "code",
      "execution_count": 2,
      "metadata": {
        "id": "2dOmjT5kJLLq"
      },
      "outputs": [],
      "source": [
        "import pandas as pd\n",
        "\n",
        "df = pd.read_csv('bestsellers.csv')"
      ]
    },
    {
      "cell_type": "code",
      "source": [
        "# Get the first 5 rows of the spreadsheet\n",
        "print(df.head())\n",
        "\n",
        "# Get the shape of the spreadsheet\n",
        "print(df.shape)\n",
        "\n",
        "# Get the column names of the spreadsheet\n",
        "print(df.columns)\n",
        "\n",
        "# Get summary statistics for each column\n",
        "print(df.describe())"
      ],
      "metadata": {
        "colab": {
          "base_uri": "https://localhost:8080/"
        },
        "id": "mn1EU0h2Janb",
        "outputId": "80c77e8f-f485-486e-dac6-00be0ecd8896"
      },
      "execution_count": 3,
      "outputs": [
        {
          "output_type": "stream",
          "name": "stdout",
          "text": [
            "                                                Name  \\\n",
            "0                      10-Day Green Smoothie Cleanse   \n",
            "1                                  11/22/63: A Novel   \n",
            "2            12 Rules for Life: An Antidote to Chaos   \n",
            "3                             1984 (Signet Classics)   \n",
            "4  5,000 Awesome Facts (About Everything!) (Natio...   \n",
            "\n",
            "                     Author  User Rating  Reviews  Price  Year        Genre  \n",
            "0                  JJ Smith          4.7    17350      8  2016  Non Fiction  \n",
            "1              Stephen King          4.6     2052     22  2011      Fiction  \n",
            "2        Jordan B. Peterson          4.7    18979     15  2018  Non Fiction  \n",
            "3             George Orwell          4.7    21424      6  2017      Fiction  \n",
            "4  National Geographic Kids          4.8     7665     12  2019  Non Fiction  \n",
            "(550, 7)\n",
            "Index(['Name', 'Author', 'User Rating', 'Reviews', 'Price', 'Year', 'Genre'], dtype='object')\n",
            "       User Rating       Reviews       Price         Year\n",
            "count   550.000000    550.000000  550.000000   550.000000\n",
            "mean      4.618364  11953.281818   13.100000  2014.000000\n",
            "std       0.226980  11731.132017   10.842262     3.165156\n",
            "min       3.300000     37.000000    0.000000  2009.000000\n",
            "25%       4.500000   4058.000000    7.000000  2011.000000\n",
            "50%       4.700000   8580.000000   11.000000  2014.000000\n",
            "75%       4.800000  17253.250000   16.000000  2017.000000\n",
            "max       4.900000  87841.000000  105.000000  2019.000000\n"
          ]
        }
      ]
    },
    {
      "cell_type": "code",
      "source": [
        "df.drop_duplicates(inplace=True)"
      ],
      "metadata": {
        "id": "X6t5GT40JcPg"
      },
      "execution_count": 4,
      "outputs": []
    },
    {
      "cell_type": "code",
      "source": [
        "df.rename(columns={\"Name\": \"Title\", \"Year\": \"Publication Year\", \"User Rating\": \"Rating\"}, inplace=True)"
      ],
      "metadata": {
        "id": "SBGJfUggJgvj"
      },
      "execution_count": 5,
      "outputs": []
    },
    {
      "cell_type": "code",
      "source": [
        "df[\"Price\"] = df[\"Price\"].astype(float)"
      ],
      "metadata": {
        "id": "pbejOtaZJiRQ"
      },
      "execution_count": 6,
      "outputs": []
    },
    {
      "cell_type": "code",
      "source": [
        "author_counts = df['Author'].value_counts()\n",
        "print(author_counts)"
      ],
      "metadata": {
        "colab": {
          "base_uri": "https://localhost:8080/"
        },
        "id": "RkyE64fOJi2B",
        "outputId": "b42f4439-3146-4655-9eb5-044468f89e61"
      },
      "execution_count": 7,
      "outputs": [
        {
          "output_type": "stream",
          "name": "stdout",
          "text": [
            "Author\n",
            "Jeff Kinney                           12\n",
            "Gary Chapman                          11\n",
            "Rick Riordan                          11\n",
            "Suzanne Collins                       11\n",
            "American Psychological Association    10\n",
            "                                      ..\n",
            "Keith Richards                         1\n",
            "Chris Cleave                           1\n",
            "Alice Schertle                         1\n",
            "Celeste Ng                             1\n",
            "Adam Gasiewski                         1\n",
            "Name: count, Length: 248, dtype: int64\n"
          ]
        }
      ]
    },
    {
      "cell_type": "code",
      "source": [
        "avg_rating_by_genre = df.groupby(\"Genre\")[\"Rating\"].mean()\n",
        "print(avg_rating_by_genre)"
      ],
      "metadata": {
        "colab": {
          "base_uri": "https://localhost:8080/"
        },
        "id": "hzKnHq1MJk2C",
        "outputId": "27a53266-b8f8-4503-8235-be0570b2f445"
      },
      "execution_count": 8,
      "outputs": [
        {
          "output_type": "stream",
          "name": "stdout",
          "text": [
            "Genre\n",
            "Fiction        4.648333\n",
            "Non Fiction    4.595161\n",
            "Name: Rating, dtype: float64\n"
          ]
        }
      ]
    },
    {
      "cell_type": "code",
      "source": [
        "# Export top selling authors to a CSV file\n",
        "author_counts.head(10).to_csv(\"top_authors.csv\")\n",
        "\n",
        "# Export average rating by genre to a CSV file\n",
        "avg_rating_by_genre.to_csv(\"avg_rating_by_genre.csv\")"
      ],
      "metadata": {
        "id": "0A4Czwj_JoMN"
      },
      "execution_count": 9,
      "outputs": []
    }
  ]
}